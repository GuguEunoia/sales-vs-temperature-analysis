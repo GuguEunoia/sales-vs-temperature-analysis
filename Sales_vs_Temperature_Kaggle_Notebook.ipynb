{
 "cells": [
  {
   "cell_type": "markdown",
   "id": "82b6f32a",
   "metadata": {},
   "source": [
    "# 📊 Sales vs Temperature: An Exploratory Data Analysis\n",
    "\n",
    "This notebook explores how temperature impacts sales using a simple dataset. It includes:\n",
    "\n",
    "- Data exploration using Python\n",
    "- A summary of insights\n",
    "- A link to an interactive Tableau Public dashboard for visual exploration\n",
    "\n",
    "**🔗 Dashboard:** [View on Tableau Public](https://public.tableau.com/your-dashboard-link)\n",
    "\n",
    "**📁 Dataset:** `SalesByTemp_with_ID.xlsx`\n"
   ]
  },
  {
   "cell_type": "code",
   "execution_count": null,
   "id": "730cc048",
   "metadata": {},
   "outputs": [],
   "source": [
    "import pandas as pd\n",
    "import matplotlib.pyplot as plt\n",
    "\n",
    "# Load the dataset (update path if needed when uploading to Kaggle)\n",
    "df = pd.read_excel(\"/kaggle/input/salesbytemp-with-id/SalesByTemp_with_ID.xlsx\")\n",
    "\n",
    "# Scatter plot\n",
    "plt.figure(figsize=(8,5))\n",
    "plt.scatter(df['temperature'], df['sales'], alpha=0.7, edgecolors='k')\n",
    "plt.xlabel('Temperature')\n",
    "plt.ylabel('Sales')\n",
    "plt.title('Sales vs Temperature')\n",
    "plt.grid(True)\n",
    "plt.show()\n"
   ]
  },
  {
   "cell_type": "markdown",
   "id": "60daaccc",
   "metadata": {},
   "source": [
    "## 🔍 Key Insights\n",
    "\n",
    "- There appears to be a **positive correlation** between temperature and sales.\n",
    "- Sales increase significantly as temperature rises, suggesting a possible seasonal demand pattern.\n",
    "- A simple linear regression confirms this trend.\n",
    "\n",
    "The full visualization and interactive dashboard can be found on Tableau Public.\n"
   ]
  },
  {
   "cell_type": "markdown",
   "id": "63d5fbb9",
   "metadata": {},
   "source": [
    "## ✅ Summary\n",
    "\n",
    "This project demonstrates how simple datasets can uncover valuable business insights. It also bridges Python analysis with interactive Tableau dashboards for storytelling.\n",
    "\n",
    "Thanks for reading! 🚀\n"
   ]
  }
 ],
 "metadata": {},
 "nbformat": 4,
 "nbformat_minor": 5
}
